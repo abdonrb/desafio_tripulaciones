{
 "cells": [
  {
   "cell_type": "markdown",
   "id": "99ab508c",
   "metadata": {},
   "source": [
    "# Estudio pagina para viabilidad Web Scrapping\n",
    "(web Comunidad de Madrid)"
   ]
  },
  {
   "cell_type": "markdown",
   "id": "d8331102",
   "metadata": {},
   "source": [
    "[Enlace web 'Madrid con niños' de la Comunidad de Madrid](https://www.comunidad.madrid/cultura/organiza-tu-visita/madrid-ninos)"
   ]
  },
  {
   "cell_type": "markdown",
   "id": "a72ed798",
   "metadata": {},
   "source": [
    "Voy a confirmar primeramente si la web es scrappeable y de qué forma, preguntando a las iAs e investigando"
   ]
  },
  {
   "cell_type": "markdown",
   "id": "01c58176",
   "metadata": {},
   "source": [
    "La web tiene varias secciones en un menu en la izquierda. En cad sección, hay varios desplegables de cada tipo (Museos, parques, etc), y dentro de cada uno, el enlace del lugar, webs diferentes donde se ofertan diferentes cosas, con estructuras totalmente diferentes unas de otras."
   ]
  },
  {
   "cell_type": "markdown",
   "id": "25b2928f",
   "metadata": {},
   "source": [
    "![imagen web Madrid con niños](../img/ComMadrid_ninos_00.png)\n"
   ]
  },
  {
   "cell_type": "markdown",
   "id": "da6332cd",
   "metadata": {},
   "source": [
    "Sin embargo al principio hay un enlace a \"Actividades y exposiciones\", que abre otra web tipo agenda, con más secciones a su vez. "
   ]
  },
  {
   "cell_type": "markdown",
   "id": "36b964b1",
   "metadata": {},
   "source": [
    "![imagen web Madrid con niños > Actividades y exposiciones](../img/ComMadrid_ninos_01.png)"
   ]
  }
 ],
 "metadata": {
  "language_info": {
   "name": "python"
  }
 },
 "nbformat": 4,
 "nbformat_minor": 5
}
