{
 "cells": [
  {
   "cell_type": "code",
   "execution_count": 6,
   "id": "dd30e7bb",
   "metadata": {},
   "outputs": [],
   "source": [
    "import pandas as pd\n",
    "import numpy as np\n",
    "\n",
    "# Cargar el CSV\n",
    "ruta = 'C:/Users/anoni/Documents/GitHub/desafio_tripulaciones/data/processed/actividades_infantiles_madrid_19-04-2025.csv'\n",
    "df = pd.read_csv(ruta)\n",
    "\n",
    "# Limpiar los nombres de las columnas (eliminar espacios en blanco)\n",
    "df.columns = df.columns.str.strip()"
   ]
  },
  {
   "cell_type": "code",
   "execution_count": 7,
   "id": "85d2c4dc",
   "metadata": {},
   "outputs": [
    {
     "name": "stdout",
     "output_type": "stream",
     "text": [
      "Se han creado los archivos 'create_table.sql' y 'insert_data.sql'\n"
     ]
    }
   ],
   "source": [
    "# Crear el archivo CREATE TABLE\n",
    "with open('create_table.sql', 'w', encoding='utf-8') as f:\n",
    "    f.write(\"\"\"-- Script para crear la tabla actividades_infantiles\n",
    "\n",
    "CREATE TABLE actividades_infantiles (\n",
    "    id SERIAL PRIMARY KEY,\n",
    "    titulo TEXT NOT NULL,\n",
    "    tipo TEXT,\n",
    "    lugar TEXT,\n",
    "    distrito TEXT,\n",
    "    fecha_inicio TEXT,\n",
    "    fecha_fin TEXT,\n",
    "    url TEXT\n",
    ");\n",
    "\"\"\")\n",
    "\n",
    "# Crear el archivo INSERT\n",
    "with open('insert_data.sql', 'w', encoding='utf-8') as f:\n",
    "    f.write(\"-- Script para insertar datos en la tabla actividades_infantiles\\n\\n\")\n",
    "    for i, row in df.iterrows():\n",
    "        # Escapar comillas simples en los valores de texto\n",
    "        titulo = str(row['titulo']).replace(\"'\", \"''\")\n",
    "        tipo = str(row['tipo']).replace(\"'\", \"''\")\n",
    "        lugar = str(row['lugar']).replace(\"'\", \"''\")\n",
    "        distrito = str(row['distrito']).replace(\"'\", \"''\")\n",
    "        fecha_inicio = str(row['fecha_inicio']).replace(\"'\", \"''\")\n",
    "        fecha_fin = str(row['fecha_fin']).replace(\"'\", \"''\")\n",
    "        url = str(row['url']).replace(\"'\", \"''\")\n",
    "        \n",
    "        # Escribir la sentencia INSERT\n",
    "        insert_stmt = f\"\"\"\n",
    "INSERT INTO actividades_infantiles (titulo, tipo, lugar, distrito, fecha_inicio, fecha_fin, url)\n",
    "VALUES (\n",
    "    '{titulo}',\n",
    "    '{tipo}',\n",
    "    '{lugar}',\n",
    "    '{distrito}',\n",
    "    '{fecha_inicio}',\n",
    "    '{fecha_fin}',\n",
    "    '{url}'\n",
    ");\n",
    "\"\"\"\n",
    "        f.write(insert_stmt)\n",
    "\n",
    "print(\"Se han creado los archivos 'create_table.sql' y 'insert_data.sql'\")"
   ]
  }
 ],
 "metadata": {
  "kernelspec": {
   "display_name": "Python 3",
   "language": "python",
   "name": "python3"
  },
  "language_info": {
   "codemirror_mode": {
    "name": "ipython",
    "version": 3
   },
   "file_extension": ".py",
   "mimetype": "text/x-python",
   "name": "python",
   "nbconvert_exporter": "python",
   "pygments_lexer": "ipython3",
   "version": "3.11.9"
  }
 },
 "nbformat": 4,
 "nbformat_minor": 5
}
