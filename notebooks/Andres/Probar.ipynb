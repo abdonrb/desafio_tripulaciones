{
 "cells": [
  {
   "cell_type": "code",
   "execution_count": 11,
   "id": "86c46632",
   "metadata": {},
   "outputs": [],
   "source": [
    "import pandas as pd\n",
    "\n",
    "ruta = 'C:/Users/anoni/Documents/GitHub/desafio_tripulaciones/data/processed/actividades_infantiles_madrid_19-04-2025.csv'\n",
    "df = pd.read_csv(ruta)"
   ]
  },
  {
   "cell_type": "code",
   "execution_count": 12,
   "id": "db3ad62e",
   "metadata": {},
   "outputs": [
    {
     "data": {
      "text/html": [
       "<div>\n",
       "<style scoped>\n",
       "    .dataframe tbody tr th:only-of-type {\n",
       "        vertical-align: middle;\n",
       "    }\n",
       "\n",
       "    .dataframe tbody tr th {\n",
       "        vertical-align: top;\n",
       "    }\n",
       "\n",
       "    .dataframe thead th {\n",
       "        text-align: right;\n",
       "    }\n",
       "</style>\n",
       "<table border=\"1\" class=\"dataframe\">\n",
       "  <thead>\n",
       "    <tr style=\"text-align: right;\">\n",
       "      <th></th>\n",
       "      <th>titulo</th>\n",
       "      <th>tipo</th>\n",
       "      <th>lugar</th>\n",
       "      <th>distrito</th>\n",
       "      <th>fecha_inicio</th>\n",
       "      <th>fecha_fin</th>\n",
       "      <th>url</th>\n",
       "    </tr>\n",
       "  </thead>\n",
       "  <tbody>\n",
       "    <tr>\n",
       "      <th>0</th>\n",
       "      <td>Talleres creativos en idioma serbio</td>\n",
       "      <td>CURSOS Y TALLERES</td>\n",
       "      <td>Biblioteca Pública Municipal Iván de Vargas (C...</td>\n",
       "      <td>CENTRO</td>\n",
       "      <td>domingo 22 de septiembre de 2024</td>\n",
       "      <td>domingo 22 de junio de 2025</td>\n",
       "      <td>https://www.madrid.es/portales/munimadrid/es/I...</td>\n",
       "    </tr>\n",
       "    <tr>\n",
       "      <th>1</th>\n",
       "      <td>Tertulias en Inglés (infantil) Biblioteca Vall...</td>\n",
       "      <td>CURSOS Y TALLERES</td>\n",
       "      <td>Biblioteca Pública Municipal Vallecas (Puente ...</td>\n",
       "      <td>PUENTE DE VALLECAS</td>\n",
       "      <td>miércoles 25 de septiembre de 2024</td>\n",
       "      <td>miércoles 11 de junio de 2025</td>\n",
       "      <td>https://www.madrid.es/portales/munimadrid/es/I...</td>\n",
       "    </tr>\n",
       "    <tr>\n",
       "      <th>2</th>\n",
       "      <td>Club de lectura (infantil) Biblioteca David Gi...</td>\n",
       "      <td>CLUBES DE LECTURA, \\r\\n            \\r\\n       ...</td>\n",
       "      <td>Biblioteca Pública Municipal David Gistau (Sal...</td>\n",
       "      <td>SALAMANCA</td>\n",
       "      <td>lunes 30 de septiembre de 2024</td>\n",
       "      <td>lunes 9 de junio de 2025</td>\n",
       "      <td>https://www.madrid.es/portales/munimadrid/es/I...</td>\n",
       "    </tr>\n",
       "    <tr>\n",
       "      <th>3</th>\n",
       "      <td>Taller de cómic (Infantil) Biblioteca Pozo del...</td>\n",
       "      <td>CURSOS Y TALLERES</td>\n",
       "      <td>Biblioteca Pública Municipal Pozo del Tío Raim...</td>\n",
       "      <td>PUENTE DE VALLECAS</td>\n",
       "      <td>lunes 30 de septiembre de 2024</td>\n",
       "      <td>lunes 2 de junio de 2025</td>\n",
       "      <td>https://www.madrid.es/portales/munimadrid/es/I...</td>\n",
       "    </tr>\n",
       "    <tr>\n",
       "      <th>4</th>\n",
       "      <td>Club de lectura (infantil) Biblioteca San Fermín</td>\n",
       "      <td>CLUBES DE LECTURA, \\r\\n            \\r\\n       ...</td>\n",
       "      <td>Biblioteca Pública Municipal San Fermín (Usera)</td>\n",
       "      <td>USERA</td>\n",
       "      <td>miércoles 2 de octubre de 2024</td>\n",
       "      <td>miércoles 18 de junio de 2025</td>\n",
       "      <td>https://www.madrid.es/portales/munimadrid/es/I...</td>\n",
       "    </tr>\n",
       "  </tbody>\n",
       "</table>\n",
       "</div>"
      ],
      "text/plain": [
       "                                              titulo  \\\n",
       "0                Talleres creativos en idioma serbio   \n",
       "1  Tertulias en Inglés (infantil) Biblioteca Vall...   \n",
       "2  Club de lectura (infantil) Biblioteca David Gi...   \n",
       "3  Taller de cómic (Infantil) Biblioteca Pozo del...   \n",
       "4   Club de lectura (infantil) Biblioteca San Fermín   \n",
       "\n",
       "                                                tipo  \\\n",
       "0                                  CURSOS Y TALLERES   \n",
       "1                                  CURSOS Y TALLERES   \n",
       "2  CLUBES DE LECTURA, \\r\\n            \\r\\n       ...   \n",
       "3                                  CURSOS Y TALLERES   \n",
       "4  CLUBES DE LECTURA, \\r\\n            \\r\\n       ...   \n",
       "\n",
       "                                               lugar            distrito  \\\n",
       "0  Biblioteca Pública Municipal Iván de Vargas (C...              CENTRO   \n",
       "1  Biblioteca Pública Municipal Vallecas (Puente ...  PUENTE DE VALLECAS   \n",
       "2  Biblioteca Pública Municipal David Gistau (Sal...           SALAMANCA   \n",
       "3  Biblioteca Pública Municipal Pozo del Tío Raim...  PUENTE DE VALLECAS   \n",
       "4    Biblioteca Pública Municipal San Fermín (Usera)               USERA   \n",
       "\n",
       "                         fecha_inicio                      fecha_fin  \\\n",
       "0    domingo 22 de septiembre de 2024    domingo 22 de junio de 2025   \n",
       "1  miércoles 25 de septiembre de 2024  miércoles 11 de junio de 2025   \n",
       "2      lunes 30 de septiembre de 2024       lunes 9 de junio de 2025   \n",
       "3      lunes 30 de septiembre de 2024       lunes 2 de junio de 2025   \n",
       "4      miércoles 2 de octubre de 2024  miércoles 18 de junio de 2025   \n",
       "\n",
       "                                                 url  \n",
       "0  https://www.madrid.es/portales/munimadrid/es/I...  \n",
       "1  https://www.madrid.es/portales/munimadrid/es/I...  \n",
       "2  https://www.madrid.es/portales/munimadrid/es/I...  \n",
       "3  https://www.madrid.es/portales/munimadrid/es/I...  \n",
       "4  https://www.madrid.es/portales/munimadrid/es/I...  "
      ]
     },
     "execution_count": 12,
     "metadata": {},
     "output_type": "execute_result"
    }
   ],
   "source": [
    "df.head()"
   ]
  },
  {
   "cell_type": "code",
   "execution_count": 13,
   "id": "ac16a6dc",
   "metadata": {},
   "outputs": [
    {
     "name": "stdout",
     "output_type": "stream",
     "text": [
      "\n",
      "CREATE TABLE actividades_infantiles (\n",
      "  titulo TEXT,\n",
      "  tipo TEXT,\n",
      "  lugar TEXT,\n",
      "  distrito TEXT,\n",
      "  fecha_inicio TEXT,\n",
      "  fecha_fin TEXT,\n",
      "  url TEXT\n",
      ");\n",
      "\n"
     ]
    }
   ],
   "source": [
    "create_table = \"\"\"\n",
    "CREATE TABLE actividades_infantiles (\n",
    "  titulo TEXT,\n",
    "  tipo TEXT,\n",
    "  lugar TEXT,\n",
    "  distrito TEXT,\n",
    "  fecha_inicio TEXT,\n",
    "  fecha_fin TEXT,\n",
    "  url TEXT\n",
    ");\n",
    "\"\"\"\n",
    "print(create_table)"
   ]
  },
  {
   "cell_type": "code",
   "execution_count": 14,
   "id": "3224aa14",
   "metadata": {},
   "outputs": [
    {
     "name": "stdout",
     "output_type": "stream",
     "text": [
      "INSERT INTO actividades_infantiles (titulo, tipo, lugar, distrito, fecha_inicio, fecha_fin, url) VALUES ('Talleres creativos en idioma serbio', 'CURSOS Y TALLERES', 'Biblioteca Pública Municipal Iván de Vargas (Centro)', 'CENTRO', 'domingo 22 de septiembre de 2024', 'domingo 22 de junio de 2025', 'https://www.madrid.es/portales/munimadrid/es/Inicio/Cultura-ocio-y-deporte/Talleres-creativos-en-idioma-serbio/?vgnextfmt=default&vgnextoid=394cdaa14d721910VgnVCM2000001f4a900aRCRD&vgnextchannel=7911f073808fe410VgnVCM2000000c205a0aRCRD');\n",
      "INSERT INTO actividades_infantiles (titulo, tipo, lugar, distrito, fecha_inicio, fecha_fin, url) VALUES ('Tertulias en Inglés (infantil) Biblioteca Vallecas', 'CURSOS Y TALLERES', 'Biblioteca Pública Municipal Vallecas (Puente de Vallecas)', 'PUENTE DE VALLECAS', 'miércoles 25 de septiembre de 2024', 'miércoles 11 de junio de 2025', 'https://www.madrid.es/portales/munimadrid/es/Inicio/Cultura-ocio-y-deporte/Tertulias-en-Ingles-infantil-Biblioteca-Vallecas/?vgnextfmt=default&vgnextoid=eec46c112bc41910VgnVCM2000001f4a900aRCRD&vgnextchannel=7911f073808fe410VgnVCM2000000c205a0aRCRD');\n",
      "INSERT INTO actividades_infantiles (titulo, tipo, lugar, distrito, fecha_inicio, fecha_fin, url) VALUES ('Club de lectura (infantil) Biblioteca David Gistau', 'CLUBES DE LECTURA, \n",
      "            \n",
      "            CURSOS Y TALLERES', 'Biblioteca Pública Municipal David Gistau (Salamanca)', 'SALAMANCA', 'lunes 30 de septiembre de 2024', 'lunes 9 de junio de 2025', 'https://www.madrid.es/portales/munimadrid/es/Inicio/Cultura-ocio-y-deporte/Club-de-lectura-infantil-Biblioteca-David-Gistau/?vgnextfmt=default&vgnextoid=0c4bf9ea99e61910VgnVCM2000001f4a900aRCRD&vgnextchannel=7911f073808fe410VgnVCM2000000c205a0aRCRD');\n"
     ]
    }
   ],
   "source": [
    "inserts = []\n",
    "for _, row in df.iterrows():\n",
    "    values = (\n",
    "        row['titulo'].replace(\"'\", \"''\"),\n",
    "        row['tipo'].replace(\"'\", \"''\"),\n",
    "        row['lugar'].replace(\"'\", \"''\"),\n",
    "        row['distrito'].replace(\"'\", \"''\"),\n",
    "        row['fecha_inicio'],\n",
    "        row['fecha_fin'],\n",
    "        row['url'].replace(\"'\", \"''\")\n",
    "    )\n",
    "    insert = f\"INSERT INTO actividades_infantiles (titulo, tipo, lugar, distrito, fecha_inicio, fecha_fin, url) VALUES ('{values[0]}', '{values[1]}', '{values[2]}', '{values[3]}', '{values[4]}', '{values[5]}', '{values[6]}');\"\n",
    "    inserts.append(insert)\n",
    "\n",
    "# Muestra los primeros 3 INSERTS como ejemplo\n",
    "for i in range(3):\n",
    "    print(inserts[i])"
   ]
  },
  {
   "cell_type": "code",
   "execution_count": 16,
   "id": "9e169431",
   "metadata": {},
   "outputs": [],
   "source": [
    "queries = \"\"\"\n",
    "-- Ver los primeros registros\n",
    "SELECT * FROM actividades_infantiles LIMIT 10;\n",
    "\n",
    "-- Contar cuántos registros hay\n",
    "SELECT COUNT(*) FROM actividades_infantiles;\n",
    "\n",
    "-- Ver actividades por distrito\n",
    "SELECT distrito, COUNT(*) AS total\n",
    "FROM actividades_infantiles\n",
    "GROUP BY distrito\n",
    "ORDER BY total DESC;\n",
    "\n",
    "-- Buscar actividades por tipo\n",
    "SELECT * FROM actividades_infantiles\n",
    "WHERE tipo ILIKE '%taller%';\n",
    "\n",
    "-- Ver actividades próximas a una fecha\n",
    "SELECT * FROM actividades_infantiles\n",
    "WHERE fecha_inicio >= '2025-01-01'\n",
    "ORDER BY fecha_inicio ASC;\n",
    "\"\"\""
   ]
  },
  {
   "cell_type": "code",
   "execution_count": 18,
   "id": "146cbc55",
   "metadata": {},
   "outputs": [],
   "source": [
    "with open('actividades_infantiles.sql', 'w', encoding='utf-8') as f:\n",
    "    f.write(create_table + '\\n')\n",
    "    for insert in inserts:\n",
    "        f.write(insert + '\\n')  # Ahora está correctamente indentada\n",
    "    f.write('\\n' + queries)"
   ]
  }
 ],
 "metadata": {
  "kernelspec": {
   "display_name": "Python 3",
   "language": "python",
   "name": "python3"
  },
  "language_info": {
   "codemirror_mode": {
    "name": "ipython",
    "version": 3
   },
   "file_extension": ".py",
   "mimetype": "text/x-python",
   "name": "python",
   "nbconvert_exporter": "python",
   "pygments_lexer": "ipython3",
   "version": "3.11.9"
  }
 },
 "nbformat": 4,
 "nbformat_minor": 5
}
