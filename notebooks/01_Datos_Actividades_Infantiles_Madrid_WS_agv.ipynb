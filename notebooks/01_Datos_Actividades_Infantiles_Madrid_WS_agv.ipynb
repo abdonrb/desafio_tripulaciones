{
 "cells": [
  {
   "cell_type": "markdown",
   "id": "87eea905",
   "metadata": {},
   "source": [
    "# Obtención de datos mediante Web Scrapping\n",
    "(web Ayuntamiento de Madrid)"
   ]
  },
  {
   "cell_type": "markdown",
   "id": "779dcf79",
   "metadata": {},
   "source": [
    "[Enlace portal web Ayuntamiento de Madrid Actividades Infantiles](https://www.madrid.es/portales/munimadrid/es/Inicio/Cultura-ocio-y-deporte/Actividades-infantiles/?vgnextfmt=default&vgnextoid=fdc579db15034710VgnVCM1000001d4a900aRCRD&vgnextchannel=7911f073808fe410VgnVCM2000000c205a0aRCRD)"
   ]
  },
  {
   "cell_type": "markdown",
   "id": "d4f76802",
   "metadata": {},
   "source": [
    "Alternativa próximas actividades:\n",
    "[Enlace portal web Ayuntamiento PRÓXIMAS actividades](https://www.madrid.es/portales/munimadrid/es/AyuntamientodeMadrid/Proximas-actividades-infantiles/?vgnextoid=cff47c52ba910710VgnVCM2000001f4a900aRCRD&vgnextchannel=2af809f68134b010VgnVCM1000000b205a0aRCRD&page=0=)\n",
    "(en este aparecen muy pocas)"
   ]
  },
  {
   "cell_type": "markdown",
   "id": "1a88c40c",
   "metadata": {},
   "source": [
    "voy a realizar Webscrapping con Beatutiful Soup.\n",
    "preguntando a las iAs:\n",
    "\n",
    "ChatGPT: Sí, es razonable, y puedes hacerlo con BeautifulSoup + requests, si el contenido está en el HTML inicial (sin JS dinámico). Pero si cargan los planes con JavaScript, quizá necesites Selenium o Playwright.\n",
    "\n",
    "Copilot: Factibilidad técnica\n",
    "El scraping dependerá de la estructura del HTML del sitio. Por ejemplo:\n",
    "Identifica las etiquetas HTML en las que se encuentran los datos (puedes inspeccionar el sitio web con herramientas como DevTools de tu navegador).\n",
    "Utiliza Beautiful Soup para parsear el contenido y extraer los elementos que necesitas."
   ]
  },
  {
   "cell_type": "code",
   "execution_count": 3,
   "id": "b7062074",
   "metadata": {},
   "outputs": [
    {
     "name": "stdout",
     "output_type": "stream",
     "text": [
      "Correcto: el servidor respondió con código 200.\n"
     ]
    }
   ],
   "source": [
    "import requests\n",
    "\n",
    "url = \"https://www.madrid.es/portales/munimadrid/es/Inicio/Cultura-ocio-y-deporte/Actividades-infantiles/?vgnextfmt=default&vgnextoid=fdc579db15034710VgnVCM1000001d4a900aRCRD&vgnextchannel=7911f073808fe410VgnVCM2000000c205a0aRCRD&page=1\"\n",
    "\n",
    "response = requests.get(url)\n",
    "\n",
    "if response.status_code == 200:\n",
    "    print(\"Correcto: el servidor respondió con código 200.\")\n",
    "else:\n",
    "    print(f\"Error: el servidor respondió con código {response.status_code}.\")\n"
   ]
  },
  {
   "cell_type": "code",
   "execution_count": 2,
   "id": "33e6e582",
   "metadata": {},
   "outputs": [],
   "source": [
    "import requests\n",
    "from bs4 import BeautifulSoup\n",
    "\n",
    "url = \"https://www.madrid.es/portales/munimadrid/es/Inicio/Cultura-ocio-y-deporte/Actividades-infantiles/?vgnextfmt=default&vgnextoid=fdc579db15034710VgnVCM1000001d4a900aRCRD&vgnextchannel=7911f073808fe410VgnVCM2000000c205a0aRCRD&page=1\"\n",
    "response = requests.get(url)\n",
    "\n",
    "if response.status_code == 200:  # Comprobación del acceso\n",
    "    soup = BeautifulSoup(response.text, 'html.parser')\n",
    "    \n",
    "    # # Ejemplo: Buscar todos los enlaces\n",
    "    # enlaces = soup.find_all('a')\n",
    "    # for enlace in enlaces:\n",
    "    #     print(enlace.text, enlace['href'])\n",
    "else:\n",
    "    print(\"No se pudo acceder al sitio web.\")\n"
   ]
  }
 ],
 "metadata": {
  "kernelspec": {
   "display_name": ".venv",
   "language": "python",
   "name": "python3"
  },
  "language_info": {
   "codemirror_mode": {
    "name": "ipython",
    "version": 3
   },
   "file_extension": ".py",
   "mimetype": "text/x-python",
   "name": "python",
   "nbconvert_exporter": "python",
   "pygments_lexer": "ipython3",
   "version": "3.11.9"
  }
 },
 "nbformat": 4,
 "nbformat_minor": 5
}
